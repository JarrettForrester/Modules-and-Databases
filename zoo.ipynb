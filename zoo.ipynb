
    #11.1 Create a file called zoo.py. In it, define a function called hours() that prints the string 'Open 9-5 daily'. Then, use the interactive interpreter to import the zoo module and call its hours() function.
    def hours():
        print('open 9-5 daily')
       
    import zoo
    zoo.hours()
    
    #11.2 In the interactive interpreter, import the zoo module as menagerie and call its hours() function.
    import zoo as menagerie
    menagerie.hours()
   
    #16.8 Use the sqlalchemy module to connect to the sqlite3 database books.db that you just made in exercise 16.4. As in 16.6, select and print the title column from the book table in alphabetical order.
    from sqlalchemy import create_engine, Table, Column, Integer, String, MetaData, select
   
    engine = create_engine('sqlite:///books.db')
    metadata = MetaData()
    book = Table('book', metadata, Column('id', Integer, primary_key=True), Column('title', String), Column('author', String), Column('pub_year', Integer))
   
    with engine.connect() as connection:
        query = select([book.c.title]).order_by(book.c.title)
        result = connection.execute(query)
        for row in result:
            print(row['title'])
   

